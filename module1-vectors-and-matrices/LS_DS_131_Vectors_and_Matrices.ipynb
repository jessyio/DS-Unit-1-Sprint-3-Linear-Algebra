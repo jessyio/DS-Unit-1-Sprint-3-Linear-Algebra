{
 "cells": [
  {
   "cell_type": "markdown",
   "metadata": {
    "colab_type": "text",
    "id": "view-in-github"
   },
   "source": [
    "<a href=\"https://colab.research.google.com/github/ryanleeallred/DS-Unit-1-Sprint-3-Linear-Algebra/blob/master/module1-vectors-and-matrices/LS_DS_131_Vectors_and_Matrices.ipynb\" target=\"_parent\"><img src=\"https://colab.research.google.com/assets/colab-badge.svg\" alt=\"Open In Colab\"/></a>"
   ]
  },
  {
   "cell_type": "markdown",
   "metadata": {
    "colab_type": "text",
    "id": "8XRzC5P9s48F"
   },
   "source": [
    "Lambda School Data Science\n",
    "\n",
    "*Unit 1, Sprint 3, Module 1*\n",
    "\n",
    "---\n",
    "\n"
   ]
  },
  {
   "cell_type": "markdown",
   "metadata": {
    "colab_type": "text",
    "id": "lSw1x2fks8dO"
   },
   "source": [
    "# Vectors and Matrices\n",
    "\n",
    "- Student can illustrate why we care about linear algebra in the scope of data science.\n",
    "- Student can graph vectors, identify their dimensionality, calculate their length (norm), and take the dot product of two vectors.\n",
    "- Student can identify the dimensionality of matrices, multiply them, identify when matrix multiplication is a legal operation, and transpose a matrix.\n",
    "- Student can identify special types of square matrices including the identity matrix, as well as find the determinant and inverse of a matrix.\n",
    "- Student can use NumPy to perform basic Linear Algebra operations with Python."
   ]
  },
  {
   "cell_type": "markdown",
   "metadata": {
    "colab_type": "text",
    "id": "M6Bw-os-tETt"
   },
   "source": [
    "# [Why Linear Algebra?](#why-linear-algebra)\n",
    "\n",
    "Student can illustrate why we care about linear algebra in the scope of data science."
   ]
  },
  {
   "cell_type": "markdown",
   "metadata": {
    "colab_type": "text",
    "id": "U5Vt7Q_N80pJ"
   },
   "source": [
    "## Overview\n",
    "\n",
    "Data Science, Machine Learning, and Artificial intelligence is all about getting computers to do things for us better, cheaper, and faster than we could do them ourselves.\n",
    "\n",
    "How do we do that? Computers are good at doing small repetitive tasks (like arithmetic). if we tell them what small repetitive tasks to do in the right order then sometimes all of those combined behaviors will result in something that looks like a human's behavior (or at least the decisions/output look like something a human might decide to do/create).\n",
    "\n",
    "<img alt=\"Le Comte de Belamy - GAN Art\" src=\"https://obvious-art.com/assets/img/comtedorures.jpg\" width='300'>\n",
    "\n",
    "[Le Comte de Belamy](https://obvious-art.com/le-comte-de-belamy.htm)\n",
    "\n",
    "The set of instructions that we give to a computer to complete certain tasks is called an **algorithm**. The better that we can organize the set of instructions, the faster that computers can do them. The method that we use to organize and store our set of instructions so that the computer can do them super fast is called a **data structure**. The practice of optimizing the organization of our data structures so that they run really fast and efficiently is called **computer science**. (This is why we will have a unit dedicated solely to computer science in a few months). Data Scientists should care how fast computers can process their sets of instructions (algorithms)."
   ]
  },
  {
   "cell_type": "markdown",
   "metadata": {
    "colab_type": "text",
    "id": "QH_6eMXO9GAn"
   },
   "source": [
    "## Follow Along\n",
    "\n",
    "Here's a simple data structure, in Python it's known as a **list**. It's one of the simplest ways that we can store things (data) and maintain their order. When giving instructions to a computer, it's important that the computer knows in what order to execute them."
   ]
  },
  {
   "cell_type": "code",
   "execution_count": 2,
   "metadata": {
    "colab": {},
    "colab_type": "code",
    "id": "V2oY39t19X-U"
   },
   "outputs": [
    {
     "ename": "NameError",
     "evalue": "name 'df' is not defined",
     "output_type": "error",
     "traceback": [
      "\u001b[0;31m---------------------------------------------------------------------------\u001b[0m",
      "\u001b[0;31mNameError\u001b[0m                                 Traceback (most recent call last)",
      "\u001b[0;32m<ipython-input-2-983b69a288ce>\u001b[0m in \u001b[0;36m<module>\u001b[0;34m\u001b[0m\n\u001b[1;32m     14\u001b[0m           getting there in a timely manner''',\n\u001b[1;32m     15\u001b[0m           \"close door\"]\n\u001b[0;32m---> 16\u001b[0;31m \u001b[0mdf\u001b[0m\u001b[0;34m[\u001b[0m\u001b[0;34m'new_column'\u001b[0m\u001b[0;34m]\u001b[0m \u001b[0;34m=\u001b[0m \u001b[0mpd\u001b[0m\u001b[0;34m.\u001b[0m\u001b[0mSeries\u001b[0m\u001b[0;34m(\u001b[0m\u001b[0mselfDrivingCarInstructions\u001b[0m\u001b[0;34m)\u001b[0m\u001b[0;34m\u001b[0m\u001b[0;34m\u001b[0m\u001b[0m\n\u001b[0m\u001b[1;32m     17\u001b[0m \u001b[0;31m# We'll have self-driving cars next week for sure. NBD\u001b[0m\u001b[0;34m\u001b[0m\u001b[0;34m\u001b[0m\u001b[0;34m\u001b[0m\u001b[0m\n",
      "\u001b[0;31mNameError\u001b[0m: name 'df' is not defined"
     ]
    }
   ],
   "source": [
    "import pandas as pd\n",
    "\n",
    "selfDrivingCarInstructions = [\"open door\", \n",
    "          \"sit on seat\", \n",
    "          \"put key in ignition\", \n",
    "          \"turn key to the right until it stops\", \n",
    "          \"push brake pedal\", \n",
    "          \"change gear to 'Drive'\", \n",
    "          \"release brake pedal\", \n",
    "          \"push gas pedal\",\n",
    "          '''turn wheel to navigate streets with thousands of small rules and \n",
    "          exeptions to rules all while avoiding collision with other \n",
    "          objects/humans/cars, obeying traffic laws, not running out of fuel and \n",
    "          getting there in a timely manner''',\n",
    "          \"close door\"]\n",
    "df['new_column'] = pd.Series(selfDrivingCarInstructions)\n",
    "# We'll have self-driving cars next week for sure. NBD"
   ]
  },
  {
   "cell_type": "code",
   "execution_count": null,
   "metadata": {},
   "outputs": [],
   "source": [
    "vector = [1,2,3]"
   ]
  },
  {
   "cell_type": "markdown",
   "metadata": {
    "colab_type": "text",
    "id": "6eXxjBbS9Z9y"
   },
   "source": [
    "# Maintaining the order of our sets of ordered instruction-sets\n",
    "Here's another data structure we can make by putting lists inside of lists, this is called a two-dimensional list. Sometimes it is also known as a two-dimensional array or --if you put some extra methods on it-- a dataframe. As you can see things are starting to get a little bit more complicated."
   ]
  },
  {
   "cell_type": "code",
   "execution_count": 0,
   "metadata": {
    "colab": {},
    "colab_type": "code",
    "id": "78yTEOYU9c2K"
   },
   "outputs": [],
   "source": [
    "holdMyData = [\n",
    "    [1,2,3],\n",
    "    [4,5,6],\n",
    "    [7,8,9]\n",
    "]\n",
    "\n",
    "# Disregard the quality of these bad instructions"
   ]
  },
  {
   "cell_type": "markdown",
   "metadata": {
    "colab_type": "text",
    "id": "Qx4kuaV29eXE"
   },
   "source": [
    "## Linear Algebra - organize and execute big calculations/operations really fast\n",
    "\n",
    "So why linear algebra? Because the mathematical principles behinds **vectors** and **matrices** (lists and 2D lists) will help us understand how we can tell computers how to do an insane number of calculations in a very short amount of time.\n",
    "\n",
    "Remember when we said that computers are really good at doing small and repetitive tasks very quickly?\n",
    "\n",
    "## I Give You... Matrix Multiplication:\n",
    "\n",
    "<img src=\"https://2000thingswpf.files.wordpress.com/2013/04/794-002.png?w=630\" width=\"400\">\n",
    "\n",
    "If you mess up any of those multiplications or additions you're up a creek.\n",
    "\n",
    "## I Give You... Finding the Determinant of a Matrix: (an introductory linear algebra topic)\n",
    "\n",
    "## 2x2 Matrix\n",
    "\n",
    "<img src=\"http://cdn.virtualnerd.com/tutorials/Alg2_04_01_0017/assets/Alg2_04_01_0017_D_01_16.png\" width=\"400\">\n",
    "Just use the formula!</center>\n",
    "\n",
    "## 3x3 Matrix\n",
    "\n",
    "<img src=\"https://www.thecalculator.co/includes/forms/assets/img/Matrix%20determinant%203x3%20formula.jpg\" width='400'>\n",
    "Just calculate the determinant of 3 different 2x2 matrices and multiply them by 3 other numbers and add it all up.\n",
    "     \n",
    "## 4x4 Matrix\n",
    "\n",
    "<img src=\"https://semath.info/img/inverse_cofactor_ex4_02.jpg\" width='400'>\n",
    "Just calculate 3 diferent 3x3 matrix determinants which will require the calculating of 9 different 2x2 matrix determinants, multiply them all by the right numbers and add them all up. And if you mess up any of those multiplications or additions you're up a creek.\n",
    "\n",
    "## 5x5 Matrix! \n",
    "\n",
    "\n",
    "## ...\n",
    "\n",
    "\n",
    "## ...\n",
    "\n",
    "Just kidding, any linear algebra professor who assigns the hand calculation of a 5x5 matrix determinant (or larger) is a sadist. This is what computers were invented for! Why risk so much hand calculation in order to do something that computers **never** make a mistake at?\n",
    "\n",
    "By the way, when was the last time that you worked with a dataframe that was 4 rows x 4 columns or smaller?\n",
    "\n",
    "Quick, find the determinant of this 42837x42837 dataframe by hand!"
   ]
  },
  {
   "cell_type": "markdown",
   "metadata": {
    "colab_type": "text",
    "id": "vKQG-YvM9ihY"
   },
   "source": [
    "### Common Applications of Linear Algebra in Data Science:\n",
    "\n",
    "### Vectors: Rows, Columns, lists, arrays\n",
    "\n",
    "### Matrices: tables, spreadsheets, dataframes\n",
    "\n",
    "### Linear Regression: (You might remember from the intro course)\n",
    "\n",
    "<img src=\"https://jeffycyang.github.io/content/images/2015/11/Screen-Shot-2015-11-28-at-7-35-39-PM.png\" width=\"400\">"
   ]
  },
  {
   "cell_type": "code",
   "execution_count": 0,
   "metadata": {
    "colab": {
     "base_uri": "https://localhost:8080/",
     "height": 52
    },
    "colab_type": "code",
    "id": "-MaY3bJj9mgj",
    "outputId": "801f4ead-e4ff-4591-c24d-c1cb02b3d6ac"
   },
   "outputs": [
    {
     "name": "stdout",
     "output_type": "stream",
     "text": [
      "[[-596.20648399]\n",
      " [  24.68849397]]\n"
     ]
    }
   ],
   "source": [
    "# Linear Regression Example\n",
    "import matplotlib.pyplot as plt\n",
    "import numpy as np\n",
    "import pandas as pd\n",
    "\n",
    "# Read CSV\n",
    "df = pd.read_csv('https://raw.githubusercontent.com/ryanleeallred/datasets/master/Ice_Cream_Sales.csv')\n",
    "\n",
    "# Create Column of 1s\n",
    "df['Ones'] = np.ones(11)\n",
    "\n",
    "# Format X and Y Matrices\n",
    "X = df[['Ones', 'Farenheit']].values\n",
    "Y = df['Dollars'].values.reshape(-1, 1)\n",
    "\n",
    "# Calculate Beta Values\n",
    "beta = np.matmul(np.linalg.inv(np.matmul(np.transpose(X), X)), np.matmul(np.transpose(X), Y))\n",
    "\n",
    "print(beta)"
   ]
  },
  {
   "cell_type": "code",
   "execution_count": 0,
   "metadata": {
    "colab": {
     "base_uri": "https://localhost:8080/",
     "height": 295
    },
    "colab_type": "code",
    "id": "mLvWT6lj9yhn",
    "outputId": "3ab2179e-05ba-47bb-9532-6d14da79f5d4"
   },
   "outputs": [
    {
     "data": {
      "image/png": "[encoded data removed]",
      "text/plain": [
       "<Figure size 432x288 with 1 Axes>"
      ]
     },
     "metadata": {
      "tags": []
     },
     "output_type": "display_data"
    }
   ],
   "source": [
    "# Assign Beta Values to Variables\n",
    "beta_0 = beta[0,0]\n",
    "beta_1 = beta[1,0]\n",
    "\n",
    "# Plot points with line of best fit\n",
    "plt.scatter(df['Farenheit'], df['Dollars'])\n",
    "axes = plt.gca()\n",
    "x_vals = np.array(axes.get_xlim())\n",
    "y_vals = beta_0 + beta_1 * x_vals\n",
    "plt.plot(x_vals, y_vals, '-', color='b')\n",
    "plt.title('Ice Cream Sales Regression Line')\n",
    "plt.xlabel('Farenheit')\n",
    "plt.ylabel('Dollars')\n",
    "plt.show()"
   ]
  },
  {
   "cell_type": "markdown",
   "metadata": {
    "colab_type": "text",
    "id": "YQPzGmQ292_k"
   },
   "source": [
    "### Dimensionality Reduction Techniques: Principle Component Analysis (PCA) and Singular Value Decomposition (SVD)\n",
    "\n",
    "Take a giant dataset and distill it down to its important parts. (typically as a pre-processing step for creating visualizations or putting into other models.)\n",
    "\n",
    "<img src=\"https://machine-learning-course.readthedocs.io/en/latest/_images/pca4.png\" width=\"400\">"
   ]
  },
  {
   "cell_type": "markdown",
   "metadata": {
    "colab_type": "text",
    "id": "LNys1ivi-KKJ"
   },
   "source": [
    "### Deep Learning: Convolutional Neural Networks, (Image Recognition)\n",
    "\n",
    "\"Convolving\" is the process of passing a filter/kernel (small matrix) over the pixels of an image, multiplying them together, and using the result to create a new matrix. The resulting matrix will be a new image that has been modified by the filter to emphasize certain qualities of an image. This is entirely a linear algebra-based process. A convolutional neural network learns the filters that help it best identify certain aspects of images and thereby classify immages more accurately. \n",
    "\n",
    "<img src=\"https://hackernoon.com/hn-images/1*ZCjPUFrB6eHPRi4eyP6aaA.gif\">"
   ]
  },
  {
   "cell_type": "code",
   "execution_count": 0,
   "metadata": {
    "colab": {
     "base_uri": "https://localhost:8080/",
     "height": 86
    },
    "colab_type": "code",
    "id": "Z7jkvntP-h5P",
    "outputId": "f4d20ee0-2a09-432a-9274-132eee0c54a3"
   },
   "outputs": [
    {
     "name": "stdout",
     "output_type": "stream",
     "text": [
      "Requirement already satisfied: imageio in /usr/local/lib/python3.6/dist-packages (2.4.1)\n",
      "Requirement already satisfied: pillow in /usr/local/lib/python3.6/dist-packages (from imageio) (4.3.0)\n",
      "Requirement already satisfied: numpy in /usr/local/lib/python3.6/dist-packages (from imageio) (1.17.4)\n",
      "Requirement already satisfied: olefile in /usr/local/lib/python3.6/dist-packages (from pillow->imageio) (0.46)\n"
     ]
    }
   ],
   "source": [
    "!pip install imageio"
   ]
  },
  {
   "cell_type": "code",
   "execution_count": 3,
   "metadata": {
    "colab": {
     "base_uri": "https://localhost:8080/",
     "height": 248
    },
    "colab_type": "code",
    "id": "3WVBNlbp-lc7",
    "outputId": "d6982c2e-1f55-47f3-e0d8-65ab7694cb6c"
   },
   "outputs": [
    {
     "data": {
      "image/png": "[encoded data removed]",
      "text/plain": [
       "<Figure size 432x288 with 1 Axes>"
      ]
     },
     "metadata": {
      "needs_background": "light"
     },
     "output_type": "display_data"
    }
   ],
   "source": [
    "# Convolution in action\n",
    "import imageio\n",
    "import matplotlib.pyplot as plt\n",
    "import numpy as np\n",
    "import scipy.ndimage as nd\n",
    "from skimage.exposure import rescale_intensity\n",
    "from skimage import color\n",
    "\n",
    "img = imageio.imread('https://www.dropbox.com/s/dv3vtiqy439pzag/all_the_things.png?raw=1')\n",
    "plt.axis('off')\n",
    "plt.imshow(img);"
   ]
  },
  {
   "cell_type": "code",
   "execution_count": 4,
   "metadata": {
    "colab": {
     "base_uri": "https://localhost:8080/",
     "height": 248
    },
    "colab_type": "code",
    "id": "eqJTWxqo-oE6",
    "outputId": "80a37336-4c6c-4dd9-94d7-6f05472d83af"
   },
   "outputs": [
    {
     "data": {
      "image/png": "[encoded data removed]",
      "text/plain": [
       "<Figure size 432x288 with 1 Axes>"
      ]
     },
     "metadata": {
      "needs_background": "light"
     },
     "output_type": "display_data"
    }
   ],
   "source": [
    "# Convert I to grayscale, so it will be MxNx1 instead of MxNx4\n",
    "grayscale = color.rgb2gray(img)\n",
    "plt.axis('off')\n",
    "plt.imshow(grayscale, cmap=plt.cm.gray);"
   ]
  },
  {
   "cell_type": "code",
   "execution_count": 7,
   "metadata": {
    "colab": {
     "base_uri": "https://localhost:8080/",
     "height": 248
    },
    "colab_type": "code",
    "id": "RoIS6JGD-qap",
    "outputId": "a5110c43-cd27-49c1-9107-abb0678f1436"
   },
   "outputs": [
    {
     "data": {
      "image/png": "[encoded data removed]",
      "text/plain": [
       "<Figure size 432x288 with 1 Axes>"
      ]
     },
     "metadata": {
      "needs_background": "light"
     },
     "output_type": "display_data"
    }
   ],
   "source": [
    "laplacian = np.array([[0,0,1,0,0],\n",
    "              [0,0,2,0,0],\n",
    "              [1,2,-16,2,1],\n",
    "              [0,0,2,0,0],\n",
    "              [0,0,1,0,0]])\n",
    "\n",
    "\n",
    "laplacian_image = nd.convolve(grayscale, laplacian)\n",
    "plt.axis('off')\n",
    "plt.imshow(laplacian_image, cmap=plt.cm.gray);"
   ]
  },
  {
   "cell_type": "code",
   "execution_count": 8,
   "metadata": {
    "colab": {
     "base_uri": "https://localhost:8080/",
     "height": 248
    },
    "colab_type": "code",
    "id": "jLun623Y-sWC",
    "outputId": "9857ad90-9a74-4b40-a1dd-6ebb166af4d3"
   },
   "outputs": [
    {
     "data": {
      "image/png": "[encoded data removed]",
      "text/plain": [
       "<Figure size 432x288 with 1 Axes>"
      ]
     },
     "metadata": {
      "needs_background": "light"
     },
     "output_type": "display_data"
    }
   ],
   "source": [
    "#sobel x filter\n",
    "\n",
    "sobel_x = np.array([\n",
    "    [-1,0,1],\n",
    "    [-2,0,2],\n",
    "    [-1,0,1]\n",
    "])\n",
    "\n",
    "sobel_x_image = nd.convolve(grayscale, sobel_x)\n",
    "plt.axis('off')\n",
    "plt.imshow(sobel_x_image, cmap=plt.cm.gray);"
   ]
  },
  {
   "cell_type": "code",
   "execution_count": 9,
   "metadata": {
    "colab": {
     "base_uri": "https://localhost:8080/",
     "height": 248
    },
    "colab_type": "code",
    "id": "G_viT0Bv-wzd",
    "outputId": "9cb75335-fd4f-42a0-fef7-0d31f0e5426d"
   },
   "outputs": [
    {
     "data": {
      "image/png": "[encoded data removed]",
      "text/plain": [
       "<Figure size 432x288 with 1 Axes>"
      ]
     },
     "metadata": {
      "needs_background": "light"
     },
     "output_type": "display_data"
    }
   ],
   "source": [
    "#sobel y filter\n",
    "\n",
    "sobel_y = np.array([\n",
    "    [1,2,1],\n",
    "    [0,0,0],\n",
    "    [-1,-2,-1]\n",
    "])\n",
    "\n",
    "sobel_y_image = nd.convolve(grayscale, sobel_y)\n",
    "plt.axis('off')\n",
    "plt.imshow(sobel_y_image, cmap=plt.cm.gray);"
   ]
  },
  {
   "cell_type": "code",
   "execution_count": 10,
   "metadata": {},
   "outputs": [
    {
     "data": {
      "image/png": "[encoded data removed]",
      "text/plain": [
       "<Figure size 432x288 with 1 Axes>"
      ]
     },
     "metadata": {
      "needs_background": "light"
     },
     "output_type": "display_data"
    }
   ],
   "source": [
    "#sobel both with x and y\n",
    "sobel_x_image = nd.convolve(grayscale, sobel_x)\n",
    "sobel_both_image = nd.convolve(sobel_x_image, sobel_y)\n",
    "\n",
    "plt.axis('off')\n",
    "plt.imshow(sobel_both_image, cmap=plt.cm.gray);"
   ]
  },
  {
   "cell_type": "markdown",
   "metadata": {
    "colab_type": "text",
    "id": "KcM-_FNV-1kg"
   },
   "source": [
    "## Are we going to learn to do Linear Algebra by hand?\n",
    "\n",
    "Let me quote your seventh grade math teacher:\n",
    "\n",
    "> \"ArE yOu GoInG To CaRrY a CaLcUlAtOr ArOuNd wItH yOu EvErYwHeRe YoU gO???\"\n",
    "\n",
    "Of course you're going to carry a calculator around everywhere, so mostly **NO**, we're not going to do a lot of hand calculating. We're going to try and refrain from calculating things by hand unless it is absolutely necessary in order to understand and implement the concepts.\n",
    "\n",
    "We're not trying to re-invent the wheel.\n",
    "\n",
    "We're learning how to  **use** the wheel. "
   ]
  },
  {
   "cell_type": "markdown",
   "metadata": {
    "colab_type": "text",
    "id": "hYIVs-Kz-7lG"
   },
   "source": [
    "## Challenge\n",
    "\n",
    "I hope that this teaser helps you be excited about how studying Linear Algebra will help us build the intuition and skills to unlock some of the most exciting and valuable tools and techniques in machine learning. Over the next two modules we are going start building up to the concept of PCA which as you'll see will require a firm understanding of many important linear algebra intuitions."
   ]
  },
  {
   "cell_type": "markdown",
   "metadata": {
    "colab_type": "text",
    "id": "-utHeu0B8LMr"
   },
   "source": [
    "# [Scalars and Vectors](#scalars-and-vectors)\n",
    "\n",
    "Student can graph vectors, identify their dimensionality, calculate their length (norm), and take the dot product of two vectors.\n"
   ]
  },
  {
   "cell_type": "markdown",
   "metadata": {
    "colab_type": "text",
    "id": "zGBf-YtS81I4"
   },
   "source": [
    "## Overview\n",
    "\n",
    "Scalars and vectors are the basic building blocks of linear algebra. Scalars are just numbers stored as a variable, and when vectors or matrices are multiplied by them they will be scaled according to the size of the number. Vectors are a lot like lists of values in Python or like rows/columns in a dataframe many of the principles and intuitions that we learn here can be tied back to our datasets. Understanding vectors is important because matrices can be thought of as a set of vectors just like a dataframe can be thought of as a group of columns or rows. "
   ]
  },
  {
   "cell_type": "markdown",
   "metadata": {
    "colab_type": "text",
    "id": "NrSWzSsFAUxM"
   },
   "source": [
    "## Follow Along"
   ]
  },
  {
   "cell_type": "markdown",
   "metadata": {
    "colab_type": "text",
    "id": "ENo5DQOUB3MV"
   },
   "source": [
    "### Scalars\n",
    "\n",
    "A single number. Variables representing scalars are typically written in lower case.\n",
    "\n",
    "Scalars can be whole numbers or decimals.\n",
    "\n",
    "\\begin{align}\n",
    "a = 2\n",
    "\\qquad\n",
    "b = 4.815162342\n",
    "\\end{align}\n",
    "\n",
    "They can be positive, negative, 0 or any other real number.\n",
    "\n",
    "\\begin{align}\n",
    "c = -6.022\\mathrm{e}{+23}\n",
    "\\qquad\n",
    "d = \\pi\n",
    "\\end{align}"
   ]
  },
  {
   "cell_type": "code",
   "execution_count": 61,
   "metadata": {
    "colab": {
     "base_uri": "https://localhost:8080/",
     "height": 281
    },
    "colab_type": "code",
    "id": "PNTsHRWXB8n8",
    "outputId": "d70350ff-0772-4360-c7ba-dd339d5ea93f"
   },
   "outputs": [
    {
     "data": {
      "image/png": "[encoded data removed]",
      "text/plain": [
       "<Figure size 432x288 with 1 Axes>"
      ]
     },
     "metadata": {
      "needs_background": "light"
     },
     "output_type": "display_data"
    }
   ],
   "source": [
    "import math\n",
    "import matplotlib.pyplot as plt\n",
    "import numpy as np\n",
    "\n",
    "# Start with a simple vector\n",
    "blue = [.5, .5]\n",
    "\n",
    "# Then multiply it by a scalar\n",
    "\n",
    "green = np.multiply(2, blue)\n",
    "\n",
    "red = np.multiply(math.pi, blue)\n",
    "\n",
    "orange = np.multiply(-0.5, blue)\n",
    "\n",
    "# Plot the Scaled Vectors\n",
    "plt.arrow(0,0, red[0], red[1],head_width=.05, head_length=0.05, color ='red')\n",
    "plt.arrow(0,0, green[0], green[1],head_width=.05, head_length=0.05, color ='green')\n",
    "plt.arrow(0,0, blue[0], blue[1],head_width=.05, head_length=0.05, color ='blue')\n",
    "plt.arrow(0,0, orange[0], orange[1],head_width=.05, head_length=0.05, color ='orange')\n",
    "plt.xlim(-1,2)          \n",
    "plt.ylim(-1,2)\n",
    "plt.title(\"Scaled Vectors\")\n",
    "plt.show()"
   ]
  },
  {
   "cell_type": "markdown",
   "metadata": {
    "colab_type": "text",
    "id": "9XDUsS1kB-i0"
   },
   "source": [
    "### Vectors:\n",
    "\n",
    "A vector of dimension *n* is an **ordered** collection of *n* elements, which are called **components** (Note, the components of a vector are **not** referred to as \"scalars\"). Vector notation variables are commonly written as a bold-faced lowercase letters or italicized non-bold-faced lowercase characters with an arrow (→) above the letters:\n",
    "\n",
    "Written: $\\vec{v}$ \n",
    "\n",
    "Examples:\n",
    "\n",
    "\\begin{align}\n",
    "   \\vec{a} = \n",
    "   \\begin{bmatrix}\n",
    "           1\\\\\n",
    "           2\n",
    "    \\end{bmatrix}\n",
    "    \\qquad\n",
    "    \\vec{b} =\n",
    "    \\begin{bmatrix}\n",
    "          -1\\\\\n",
    "           0\\\\\n",
    "           2\n",
    "    \\end{bmatrix}\n",
    "    \\qquad\n",
    "    \\vec{c} =\n",
    "    \\begin{bmatrix}\n",
    "           4.5\n",
    "    \\end{bmatrix}\n",
    "    \\qquad\n",
    "    \\vec{d} =\n",
    "    \\begin{bmatrix}\n",
    "           Pl\\\\\n",
    "           a\\\\\n",
    "           b\\\\\n",
    "           \\frac{2}{3}\n",
    "    \\end{bmatrix}\n",
    "\\end{align}\n",
    "\n",
    "The above vectors have dimensions 2, 3, 1, and 4 respectively.\n",
    "\n",
    "Why do the vectors below only have two components?"
   ]
  },
  {
   "cell_type": "code",
   "execution_count": 0,
   "metadata": {
    "colab": {
     "base_uri": "https://localhost:8080/",
     "height": 281
    },
    "colab_type": "code",
    "id": "COePyv9DCFgB",
    "outputId": "c95519ba-63f8-42b4-c305-07094be5192d"
   },
   "outputs": [
    {
     "data": {
      "image/png": "[encoded data removed]",
      "text/plain": [
       "<Figure size 432x288 with 1 Axes>"
      ]
     },
     "metadata": {
      "tags": []
     },
     "output_type": "display_data"
    }
   ],
   "source": [
    "# Vector Examples \n",
    "yellow = [.5, .5]\n",
    "red = [.2, .1]\n",
    "blue = [.1, .3]\n",
    "\n",
    "# Coordinate Pairs for where the arrowheads are\n",
    "# yellow = (.5, .5)\n",
    "# red = (.2, .1)\n",
    "# blue = (.1, .3)\n",
    "\n",
    "plt.arrow(0, 0, .5, .5, head_width=.02, head_length=0.01, color = 'y')\n",
    "plt.arrow(0, 0, .2, .1, head_width=.02, head_length=0.01, color = 'r')\n",
    "plt.arrow(0, 0, .1, .3,  head_width=.02, head_length=0.01, color = 'b')\n",
    "plt.title('Vector Examples')\n",
    "plt.show()"
   ]
  },
  {
   "cell_type": "markdown",
   "metadata": {
    "colab_type": "text",
    "id": "DNj5IvzrCHnX"
   },
   "source": [
    "In domains such as physics it is emphasized that vectors have two properties: direction and magnitude. It's rare that we talk about them in that sense in Data Science unless we're specifically in a physics context. We just note that the length of the vector is equal to the number of dimensions of the vector. \n",
    "\n",
    "What happens if we add a third component to each of our vectors?"
   ]
  },
  {
   "cell_type": "code",
   "execution_count": 52,
   "metadata": {
    "colab": {
     "base_uri": "https://localhost:8080/",
     "height": 248
    },
    "colab_type": "code",
    "id": "hF1kRxu6CKtG",
    "outputId": "69bf36e6-2128-4a6f-ff42-115ef9a68848"
   },
   "outputs": [
    {
     "data": {
      "image/png": "[encoded data removed]",
      "text/plain": [
       "<Figure size 432x288 with 1 Axes>"
      ]
     },
     "metadata": {
      "needs_background": "light"
     },
     "output_type": "display_data"
    }
   ],
   "source": [
    "from mpl_toolkits.mplot3d import Axes3D\n",
    "import numpy as np\n",
    "\n",
    "yellow = [.5, .5, .5]\n",
    "red = [.2, .1, .0]\n",
    "blue = [.1, .3, .3]\n",
    "\n",
    "vectors = np.array([[0, 0, 0, .5, .5, .5], \n",
    "                    [0, 0, 0, .2, .1, .0],\n",
    "                    [0, 0, 0, .1, .3, .3]])\n",
    "\n",
    "X, Y, Z, U, V, W = zip(*vectors)\n",
    "fig = plt.figure()\n",
    "ax = fig.add_subplot(111, projection='3d')\n",
    "ax.quiver(X, Y, Z, U, V, W, length=1)\n",
    "ax.set_xlim([0, 1])\n",
    "ax.set_ylim([0, 1])\n",
    "ax.set_zlim([0, 1])\n",
    "ax.set_xlabel('X')\n",
    "ax.set_ylabel('Y')\n",
    "ax.set_zlabel('Z')\n",
    "plt.show()"
   ]
  },
  {
   "cell_type": "code",
   "execution_count": 11,
   "metadata": {},
   "outputs": [
    {
     "data": {
      "text/html": [
       "<div>\n",
       "<style scoped>\n",
       "    .dataframe tbody tr th:only-of-type {\n",
       "        vertical-align: middle;\n",
       "    }\n",
       "\n",
       "    .dataframe tbody tr th {\n",
       "        vertical-align: top;\n",
       "    }\n",
       "\n",
       "    .dataframe thead th {\n",
       "        text-align: right;\n",
       "    }\n",
       "</style>\n",
       "<table border=\"1\" class=\"dataframe\">\n",
       "  <thead>\n",
       "    <tr style=\"text-align: right;\">\n",
       "      <th></th>\n",
       "      <th>a</th>\n",
       "      <th>b</th>\n",
       "      <th>c</th>\n",
       "    </tr>\n",
       "  </thead>\n",
       "  <tbody>\n",
       "    <tr>\n",
       "      <th>0</th>\n",
       "      <td>1</td>\n",
       "      <td>2</td>\n",
       "      <td>8</td>\n",
       "    </tr>\n",
       "    <tr>\n",
       "      <th>1</th>\n",
       "      <td>2</td>\n",
       "      <td>6</td>\n",
       "      <td>6</td>\n",
       "    </tr>\n",
       "    <tr>\n",
       "      <th>2</th>\n",
       "      <td>3</td>\n",
       "      <td>3</td>\n",
       "      <td>4</td>\n",
       "    </tr>\n",
       "    <tr>\n",
       "      <th>3</th>\n",
       "      <td>4</td>\n",
       "      <td>8</td>\n",
       "      <td>2</td>\n",
       "    </tr>\n",
       "  </tbody>\n",
       "</table>\n",
       "</div>"
      ],
      "text/plain": [
       "   a  b  c\n",
       "0  1  2  8\n",
       "1  2  6  6\n",
       "2  3  3  4\n",
       "3  4  8  2"
      ]
     },
     "execution_count": 11,
     "metadata": {},
     "output_type": "execute_result"
    }
   ],
   "source": [
    "import pandas as pd\n",
    "\n",
    "df = pd.DataFrame({'a': [1,2,3,4], 'b': [2,6,3,8], 'c': [8,6,4,2]})\n",
    "\n",
    "df.head()\n"
   ]
  },
  {
   "cell_type": "code",
   "execution_count": 12,
   "metadata": {},
   "outputs": [
    {
     "data": {
      "text/plain": [
       "a    1\n",
       "b    2\n",
       "c    8\n",
       "Name: 0, dtype: int64"
      ]
     },
     "execution_count": 12,
     "metadata": {},
     "output_type": "execute_result"
    }
   ],
   "source": [
    "# row 0 has a dimensionality of 3\n",
    "df.iloc[0]"
   ]
  },
  {
   "cell_type": "code",
   "execution_count": 13,
   "metadata": {},
   "outputs": [
    {
     "data": {
      "text/plain": [
       "0    8\n",
       "1    6\n",
       "2    4\n",
       "3    2\n",
       "Name: c, dtype: int64"
      ]
     },
     "execution_count": 13,
     "metadata": {},
     "output_type": "execute_result"
    }
   ],
   "source": [
    "# column c has a dimensionality of 4\n",
    "df['c']"
   ]
  },
  {
   "cell_type": "markdown",
   "metadata": {
    "colab_type": "text",
    "id": "Xra4GxduCNXE"
   },
   "source": [
    "### Norm of a Vector (Magnitude or length)\n",
    "\n",
    "The *Norm* or *Magnitude* of a vector is nothing more than the **length** of the vector. Since a vector is just a line (essentially) if you treat it as the hypotenuse of a triangle you could use the pythagorean theorem to find the equation for the norm of a vector. We're essentially just generalizing the equation for the hypotenuse of a triangle that results from the pythagorean theorem to n dimensional space.\n",
    "\n",
    "We denote the norm of a vector by wrapping it in double pipes (like double absolute value signs)\n",
    "\n",
    "\\begin{align}\n",
    "||v|| = \n",
    "\\sqrt{v_{1}^2 + v_{2}^2 + \\ldots + v_{n}^2}\n",
    "\\\\\n",
    "\\vec{a} = \n",
    "\\begin{bmatrix}\n",
    "3 & 7 & 2 & 4\n",
    "\\end{bmatrix}\n",
    "\\\\\n",
    "||a|| = \\sqrt{3^2 + 7^2 + 2^2 + 4^2} \\\\\n",
    "||a|| = \\sqrt{9 + 49 + 4 + 16} \\\\\n",
    "||a|| = \\sqrt{78}\n",
    "\\end{align}\n",
    "\n",
    "The Norm is the square root of the sum of the squared elements of a vector.\n",
    "\n",
    "Properties of the Norm:\n",
    "\n",
    "The norm is always positive or zero $||x|| \\geq 0$ \n",
    "\n",
    "The norm is only equal to zero if all of the elements of the vector are zero.\n",
    "\n",
    "The Triangle Inequality: $|| x + y ||\\leq ||x|| + ||y||$\n"
   ]
  },
  {
   "cell_type": "markdown",
   "metadata": {
    "colab_type": "text",
    "id": "IUmSOT3PCaTo"
   },
   "source": [
    "### The Equation for the norm of a vector is just Pythagorean Theorem extended to more than two dimensions.\n",
    "\n",
    "$a^2 + b^2 = c^2$\n",
    "\n",
    "a = one side of a right triangle\n",
    "\n",
    "b = the other side\n",
    "\n",
    "c = the \"hypotenuse\" of a right triangle (We consider the vector that we're looking at to be the hypotenuse of a triangle\n",
    "\n",
    "![Pythagorean Theorem](http://mathworld.wolfram.com/images/eps-gif/PythagoreanTheoremFigure_1000.gif)\n",
    "\n",
    "$c = \\sqrt{a^2 + b^2}$"
   ]
  },
  {
   "cell_type": "code",
   "execution_count": 14,
   "metadata": {},
   "outputs": [
    {
     "data": {
      "image/png": "[encoded data removed]",
      "text/plain": [
       "<Figure size 432x288 with 1 Axes>"
      ]
     },
     "metadata": {
      "needs_background": "light"
     },
     "output_type": "display_data"
    }
   ],
   "source": [
    "# Vector Examples \n",
    "a = [3, 4]\n",
    "\n",
    "plt.arrow(0, 0, 3, 4, head_width=.02, head_length=0.01, color = 'b')\n",
    "plt.xlim(-1, 4)\n",
    "plt.ylim(-1, 5)\n",
    "plt.title('Vector Examples')\n",
    "plt.show()"
   ]
  },
  {
   "cell_type": "code",
   "execution_count": 15,
   "metadata": {},
   "outputs": [
    {
     "data": {
      "image/png": "[encoded data removed]",
      "text/plain": [
       "<Figure size 432x288 with 1 Axes>"
      ]
     },
     "metadata": {
      "needs_background": "light"
     },
     "output_type": "display_data"
    }
   ],
   "source": [
    "plt.arrow(0,0,a[0],a[1], color='blue')\n",
    "plt.arrow(a[0],0,0,a[1], color='green')\n",
    "plt.arrow(0,0,a[0],0, color='red')\n",
    "plt.text(x=1.5, y=-.5, s='a', fontsize='15', fontweight='bold')\n",
    "plt.text(x=3.2, y=1.5, s='b', fontsize='15', fontweight='bold')\n",
    "plt.text(x=1.5, y=2.5, s='c', fontsize='15', fontweight='bold')\n",
    "plt.xlim(-1, 4)\n",
    "plt.ylim(-1, 5)\n",
    "\n",
    "plt.show()"
   ]
  },
  {
   "cell_type": "markdown",
   "metadata": {
    "colab_type": "text",
    "id": "-INEoYRRCJep"
   },
   "source": [
    "### Dot Product\n",
    "\n",
    "The dot product of two vectors $\\vec{a}$ and $\\vec{b}$ is a scalar quantity that is equal to the sum of pair-wise products of the components of vectors a and b. An example will make this make much more sense:\n",
    "\n",
    "\\begin{align} \\vec{a} \\cdot \\vec{b} = (a_{1} \\times b_{1}) + (a_{2} \\times b_{2}) + \\ldots + ( a_{n} \\times b_{n}) \\end{align}\n",
    "\n",
    "Example:\n",
    "\n",
    "\\begin{align}\n",
    "\\vec{a} = \n",
    "\\begin{bmatrix}\n",
    "3 & 7 & 2 & 4\n",
    "\\end{bmatrix}\n",
    "\\qquad\n",
    "\\vec{b} = \n",
    "\\begin{bmatrix}\n",
    "4 & 1 & 12 & 6\n",
    "\\end{bmatrix}\n",
    "\\end{align}\n",
    "\n",
    "The dot product of two vectors would be:\n",
    "\\begin{align}\n",
    "a \\cdot b = (3)(4) + (7)(1) + (2)(12) + (4)(6) \\\\ \n",
    "= 12 + 7 + 24 + 24  \\\\\n",
    "= 67\n",
    "\\end{align}\n",
    "\n",
    "The dot product is commutative: $ a \\cdot b = b \\cdot a$\n",
    "\n",
    "The dot product is distributive: $a \\cdot (b + c) = a \\cdot b + a \\cdot c$\n",
    "\n",
    "Two vectors must have the same number of components in order for the dot product to exist. If they lengths differ the dot product is undefined."
   ]
  },
  {
   "cell_type": "code",
   "execution_count": 23,
   "metadata": {},
   "outputs": [
    {
     "ename": "TypeError",
     "evalue": "can't multiply sequence by non-int of type 'list'",
     "output_type": "error",
     "traceback": [
      "\u001b[0;31m---------------------------------------------------------------------------\u001b[0m",
      "\u001b[0;31mTypeError\u001b[0m                                 Traceback (most recent call last)",
      "\u001b[0;32m<ipython-input-23-73827c3fd8a1>\u001b[0m in \u001b[0;36m<module>\u001b[0;34m\u001b[0m\n\u001b[1;32m      1\u001b[0m \u001b[0ma\u001b[0m\u001b[0;34m=\u001b[0m\u001b[0;34m[\u001b[0m\u001b[0;36m1\u001b[0m\u001b[0;34m,\u001b[0m\u001b[0;36m2\u001b[0m\u001b[0;34m,\u001b[0m\u001b[0;36m3\u001b[0m\u001b[0;34m]\u001b[0m\u001b[0;34m\u001b[0m\u001b[0;34m\u001b[0m\u001b[0m\n\u001b[1;32m      2\u001b[0m \u001b[0mb\u001b[0m\u001b[0;34m=\u001b[0m\u001b[0;34m[\u001b[0m\u001b[0;36m5\u001b[0m\u001b[0;34m,\u001b[0m\u001b[0;36m5\u001b[0m\u001b[0;34m,\u001b[0m\u001b[0;36m5\u001b[0m\u001b[0;34m,\u001b[0m\u001b[0;34m]\u001b[0m\u001b[0;34m\u001b[0m\u001b[0;34m\u001b[0m\u001b[0m\n\u001b[0;32m----> 3\u001b[0;31m \u001b[0ma\u001b[0m\u001b[0;34m*\u001b[0m\u001b[0mb\u001b[0m\u001b[0;34m\u001b[0m\u001b[0;34m\u001b[0m\u001b[0m\n\u001b[0m",
      "\u001b[0;31mTypeError\u001b[0m: can't multiply sequence by non-int of type 'list'"
     ]
    }
   ],
   "source": [
    "a=[1,2,3]\n",
    "b=[5,5,5,]\n",
    "a*b"
   ]
  },
  {
   "cell_type": "code",
   "execution_count": 24,
   "metadata": {},
   "outputs": [
    {
     "data": {
      "text/plain": [
       "array([ 5, 10, 15])"
      ]
     },
     "execution_count": 24,
     "metadata": {},
     "output_type": "execute_result"
    }
   ],
   "source": [
    "np_a = np.array(a)\n",
    "np_b = np.array(b)\n",
    "\n",
    "\n",
    "#element wise multiplication\n",
    "#array broadcasting\n",
    "np_a * np_b"
   ]
  },
  {
   "cell_type": "code",
   "execution_count": 25,
   "metadata": {},
   "outputs": [
    {
     "data": {
      "text/plain": [
       "30"
      ]
     },
     "execution_count": 25,
     "metadata": {},
     "output_type": "execute_result"
    }
   ],
   "source": [
    "(np_a * np_b).sum()"
   ]
  },
  {
   "cell_type": "code",
   "execution_count": 26,
   "metadata": {},
   "outputs": [
    {
     "data": {
      "text/plain": [
       "30"
      ]
     },
     "execution_count": 26,
     "metadata": {},
     "output_type": "execute_result"
    }
   ],
   "source": [
    "#calculate the dot product\n",
    "np.vdot(np_a, np_b)"
   ]
  },
  {
   "cell_type": "code",
   "execution_count": 27,
   "metadata": {},
   "outputs": [
    {
     "data": {
      "text/plain": [
       "array([-5, 10, -5])"
      ]
     },
     "execution_count": 27,
     "metadata": {},
     "output_type": "execute_result"
    }
   ],
   "source": [
    "#cross product\n",
    "#not a single number, but a new vector of same dimentionality \n",
    "#the resulting vetor will be perpendicular to the first two (orthogonal)\n",
    "#a x b \n",
    "\n",
    "#calculate cross product\n",
    "np.cross(np_a, np_b)"
   ]
  },
  {
   "cell_type": "markdown",
   "metadata": {
    "colab_type": "text",
    "id": "POUdW_9A-8Wy"
   },
   "source": [
    "## Challenge\n",
    "\n",
    "Being able to calculate the length of a vector is vital as a vector's length is one of the key attributes that defines it. Likewise taking the dot product of two vectors is a process that you **need** to be comfortable with as it is involved in many more complex linear algebra processes. You will practice both of these concepts as well as graphing vectors on your assignment this afternoon."
   ]
  },
  {
   "cell_type": "markdown",
   "metadata": {
    "colab_type": "text",
    "id": "LiAs3-Mh8Lw5"
   },
   "source": [
    "# [Matrices](#matrices)\n",
    "\n",
    "Student can identify the dimensionality of matrices, multiply them, identify when matrix multiplication is a legal operation, and transpose a matrix.\n",
    "\n",
    "A **matrix** is a rectangular grid of numbers arranged in rows and columns. Variables that represent matrices are typically written as capital letters (boldfaced as well if you want to be super formal).\n",
    "\n",
    "\\begin{align}\n",
    "A = \n",
    "    \\begin{bmatrix}\n",
    "           1 & 2 & 3\\\\\n",
    "           4 & 5 & 6\\\\\n",
    "           7 & 8 & 9\n",
    "    \\end{bmatrix}\n",
    "    \\qquad\n",
    "    B = \\begin{bmatrix}\n",
    "           1 & 2 & 3\\\\\n",
    "           4 & 5 & 6\n",
    "    \\end{bmatrix}\n",
    " \\end{align}\n",
    "\n",
    "You'll notice that we arrange our dataframes in a similar grid-like pattern meaning that anything we learn about matrices also applies to the dataframes that we work with in Pandas"
   ]
  },
  {
   "cell_type": "markdown",
   "metadata": {
    "colab_type": "text",
    "id": "78ApIswA813p"
   },
   "source": [
    "## Overview"
   ]
  },
  {
   "cell_type": "markdown",
   "metadata": {
    "colab_type": "text",
    "id": "OeCWWaWmDPSn"
   },
   "source": [
    "A **matrix** is a rectangular grid of numbers arranged in rows and columns. Variables that represent matrices are typically written as capital letters (boldfaced as well if you want to be super formal).\n",
    "\n",
    "\\begin{align}\n",
    "A = \n",
    "    \\begin{bmatrix}\n",
    "           1 & 2 & 3\\\\\n",
    "           4 & 5 & 6\\\\\n",
    "           7 & 8 & 9\n",
    "    \\end{bmatrix}\n",
    "    \\qquad\n",
    "    B = \\begin{bmatrix}\n",
    "           1 & 2 & 3\\\\\n",
    "           4 & 5 & 6\n",
    "    \\end{bmatrix}\n",
    " \\end{align}\n",
    "\n",
    "You'll notice that we arrange our dataframes in a similar grid-like pattern meaning that anything we learn about matrices also applies to the dataframes that we work with in Pandas"
   ]
  },
  {
   "cell_type": "code",
   "execution_count": 29,
   "metadata": {
    "colab": {
     "base_uri": "https://localhost:8080/",
     "height": 155
    },
    "colab_type": "code",
    "id": "Qe8hTDkDDg1Y",
    "outputId": "ede8892f-c32a-40e1-fda0-14d2529336f6"
   },
   "outputs": [
    {
     "name": "stdout",
     "output_type": "stream",
     "text": [
      "(3, 2)\n"
     ]
    },
    {
     "data": {
      "text/html": [
       "<div>\n",
       "<style scoped>\n",
       "    .dataframe tbody tr th:only-of-type {\n",
       "        vertical-align: middle;\n",
       "    }\n",
       "\n",
       "    .dataframe tbody tr th {\n",
       "        vertical-align: top;\n",
       "    }\n",
       "\n",
       "    .dataframe thead th {\n",
       "        text-align: right;\n",
       "    }\n",
       "</style>\n",
       "<table border=\"1\" class=\"dataframe\">\n",
       "  <thead>\n",
       "    <tr style=\"text-align: right;\">\n",
       "      <th></th>\n",
       "      <th>a</th>\n",
       "      <th>b</th>\n",
       "    </tr>\n",
       "  </thead>\n",
       "  <tbody>\n",
       "    <tr>\n",
       "      <th>0</th>\n",
       "      <td>1</td>\n",
       "      <td>4</td>\n",
       "    </tr>\n",
       "    <tr>\n",
       "      <th>1</th>\n",
       "      <td>2</td>\n",
       "      <td>5</td>\n",
       "    </tr>\n",
       "    <tr>\n",
       "      <th>2</th>\n",
       "      <td>3</td>\n",
       "      <td>6</td>\n",
       "    </tr>\n",
       "  </tbody>\n",
       "</table>\n",
       "</div>"
      ],
      "text/plain": [
       "   a  b\n",
       "0  1  4\n",
       "1  2  5\n",
       "2  3  6"
      ]
     },
     "execution_count": 29,
     "metadata": {},
     "output_type": "execute_result"
    }
   ],
   "source": [
    "import pandas as pd\n",
    "\n",
    "df = pd.DataFrame({'a': [1,2,3], 'b': [4,5,6]})\n",
    "\n",
    "print(df.shape)\n",
    "df.head()"
   ]
  },
  {
   "cell_type": "code",
   "execution_count": 30,
   "metadata": {},
   "outputs": [
    {
     "data": {
      "text/plain": [
       "array([[1, 4],\n",
       "       [2, 5],\n",
       "       [3, 6]])"
      ]
     },
     "execution_count": 30,
     "metadata": {},
     "output_type": "execute_result"
    }
   ],
   "source": [
    "df.values"
   ]
  },
  {
   "cell_type": "code",
   "execution_count": 31,
   "metadata": {},
   "outputs": [
    {
     "data": {
      "text/plain": [
       "array([[1, 2, 3],\n",
       "       [4, 5, 6]])"
      ]
     },
     "execution_count": 31,
     "metadata": {},
     "output_type": "execute_result"
    }
   ],
   "source": [
    "df.T.values"
   ]
  },
  {
   "cell_type": "code",
   "execution_count": 62,
   "metadata": {},
   "outputs": [
    {
     "data": {
      "text/plain": [
       "array([[1],\n",
       "       [2],\n",
       "       [3]])"
      ]
     },
     "execution_count": 62,
     "metadata": {},
     "output_type": "execute_result"
    }
   ],
   "source": [
    "a=np.array([[1],\n",
    "            [2],\n",
    "            [3]])\n",
    "a"
   ]
  },
  {
   "cell_type": "code",
   "execution_count": 63,
   "metadata": {},
   "outputs": [
    {
     "data": {
      "text/plain": [
       "(3, 1)"
      ]
     },
     "execution_count": 63,
     "metadata": {},
     "output_type": "execute_result"
    }
   ],
   "source": [
    "a.shape"
   ]
  },
  {
   "cell_type": "markdown",
   "metadata": {
    "colab_type": "text",
    "id": "-ICxVWUBAWJJ"
   },
   "source": [
    "## Follow Along"
   ]
  },
  {
   "cell_type": "markdown",
   "metadata": {
    "colab_type": "text",
    "id": "edqRmcp3Diqd"
   },
   "source": [
    "### Dimensionality\n",
    "\n",
    "The number of rows and columns that a matrix has is called its **dimension**.\n",
    "\n",
    "When listing the dimension of a matrix we always list rows first and then columns. \n",
    "\n",
    "The dimension of matrix A is 3x3. (Note: This is read \"Three by Three\", the 'x' isn't a multiplication sign.)\n",
    "\n",
    "What is the Dimension of Matrix B?"
   ]
  },
  {
   "cell_type": "markdown",
   "metadata": {
    "colab_type": "text",
    "id": "_nFQuzwpDkgi"
   },
   "source": [
    "### Matrix Equality\n",
    "\n",
    "In order for two Matrices to be equal the following conditions must be true:\n",
    "\n",
    "1) They must have the same dimensions.\n",
    "\n",
    "2) Corresponding elements must be equal.\n",
    "\n",
    "\\begin{align}\n",
    "    \\begin{bmatrix}\n",
    "           1 & 4\\\\\n",
    "           2 & 5\\\\\n",
    "           3 & 6 \n",
    "    \\end{bmatrix} \n",
    "    \\neq\n",
    "    \\begin{bmatrix}\n",
    "           1 & 2 & 3\\\\\n",
    "           4 & 5 & 6\n",
    "    \\end{bmatrix}\n",
    "\\end{align}\n",
    "\n",
    "3*2 vs 2*3 "
   ]
  },
  {
   "cell_type": "markdown",
   "metadata": {
    "colab_type": "text",
    "id": "EpmtZFFTDoqh"
   },
   "source": [
    "### Matrix Multiplication\n",
    "\n",
    "You can multipy any two matrices where the number of  columns of the first matrix is equal to the number of rows of the second matrix.\n",
    "\n",
    "The unused dimensions of the factor matrices tell you what the dimensions of the product matrix will be.\n",
    "\n",
    "![Matrix Multiplication Dimensions](https://encrypted-tbn0.gstatic.com/images?q=tbn:ANd9GcRunZv20HXxTMUgrkfdER06lPnMj0HpwDU_2i4IEHsBM5098440Jw)\n",
    "\n",
    "There is no commutative property of matrix multiplication (you can't switch the order of the matrices and always get the same result). \n",
    "\n",
    "Matrix multiplication is best understood in terms of the dot product. Remember:\n",
    "\n",
    "\\begin{align} \\vec{a} \\cdot \\vec{b} = (a_{1} \\times b_{1}) + (a_{2} \\times b_{2}) + \\ldots + ( a_{n} \\times b_{n}) \\end{align}\n",
    "\n",
    "To multiply to matrices together, we will take the dot product of each row of the first matrix with each column of the second matrix. The position of the resulting entries will correspond to the row number and column number of the row and column vector that were used to find that scalar. Lets look at an example to make this more clear.\n",
    "\n",
    "![Dot Product Matrix Multiplication](https://www.mathsisfun.com/algebra/images/matrix-multiply-a.svg)\n",
    "\n",
    "\\begin{align}\n",
    "\\begin{bmatrix}\n",
    "1 & 2 & 3 \\\\\n",
    "4 & 5 & 6\n",
    "\\end{bmatrix} \n",
    "\\begin{bmatrix}\n",
    "7 & 8 \\\\\n",
    "9 & 10 \\\\\n",
    "11 & 12\n",
    "\\end{bmatrix} \n",
    "=\n",
    "\\begin{bmatrix}\n",
    "(1)(7)+(2)(9)+(3)(11) & (1)(8)+(2)(10)+(3)(12)\\\\\n",
    "(4)(7)+(5)(9)+(6)(11) & (4)(8)+(5)(10)+(6)(12)\n",
    "\\end{bmatrix}\n",
    "=\n",
    "\\begin{bmatrix}\n",
    "(7)+(18)+(33) & (8)+(20)+(36)\\\\\n",
    "(28)+(45)+(66) & (32)+(50)+(72)\n",
    "\\end{bmatrix}\n",
    "=\n",
    "\\begin{bmatrix}\n",
    "58 & 64\\\\\n",
    "139 & 154\n",
    "\\end{bmatrix}\n",
    "\\end{align}"
   ]
  },
  {
   "cell_type": "markdown",
   "metadata": {},
   "source": [
    "Starting dimensionalities: (1,4)(4,4)\n",
    "Swapped order: (4,4)(1,4) won't work because 4 and 1 are not the same"
   ]
  },
  {
   "cell_type": "markdown",
   "metadata": {},
   "source": [
    "Matrix dimensions: (2,3) (3,2)\n",
    "\n",
    "inner (3 and 3): whehter we can do the multiplication\n",
    "\n",
    "outer (2 and 2): the output size of the matrix"
   ]
  },
  {
   "cell_type": "code",
   "execution_count": 37,
   "metadata": {},
   "outputs": [
    {
     "data": {
      "text/plain": [
       "array([[1, 4],\n",
       "       [2, 5],\n",
       "       [3, 6]])"
      ]
     },
     "execution_count": 37,
     "metadata": {},
     "output_type": "execute_result"
    }
   ],
   "source": [
    "a"
   ]
  },
  {
   "cell_type": "code",
   "execution_count": 38,
   "metadata": {},
   "outputs": [],
   "source": [
    "b = np.array([[1,4],[5,6]])"
   ]
  },
  {
   "cell_type": "code",
   "execution_count": 39,
   "metadata": {},
   "outputs": [
    {
     "data": {
      "text/plain": [
       "array([[21, 28],\n",
       "       [27, 38],\n",
       "       [33, 48]])"
      ]
     },
     "execution_count": 39,
     "metadata": {},
     "output_type": "execute_result"
    }
   ],
   "source": [
    "np.matmul(a,b)"
   ]
  },
  {
   "cell_type": "code",
   "execution_count": 40,
   "metadata": {},
   "outputs": [
    {
     "ename": "ValueError",
     "evalue": "matmul: Input operand 1 has a mismatch in its core dimension 0, with gufunc signature (n?,k),(k,m?)->(n?,m?) (size 3 is different from 2)",
     "output_type": "error",
     "traceback": [
      "\u001b[0;31m---------------------------------------------------------------------------\u001b[0m",
      "\u001b[0;31mValueError\u001b[0m                                Traceback (most recent call last)",
      "\u001b[0;32m<ipython-input-40-1679ee62b0c5>\u001b[0m in \u001b[0;36m<module>\u001b[0;34m\u001b[0m\n\u001b[0;32m----> 1\u001b[0;31m \u001b[0mnp\u001b[0m\u001b[0;34m.\u001b[0m\u001b[0mmatmul\u001b[0m\u001b[0;34m(\u001b[0m\u001b[0mb\u001b[0m\u001b[0;34m,\u001b[0m\u001b[0ma\u001b[0m\u001b[0;34m)\u001b[0m\u001b[0;34m\u001b[0m\u001b[0;34m\u001b[0m\u001b[0m\n\u001b[0m",
      "\u001b[0;31mValueError\u001b[0m: matmul: Input operand 1 has a mismatch in its core dimension 0, with gufunc signature (n?,k),(k,m?)->(n?,m?) (size 3 is different from 2)"
     ]
    }
   ],
   "source": [
    "np.matmul(b,a)"
   ]
  },
  {
   "cell_type": "markdown",
   "metadata": {
    "colab_type": "text",
    "id": "zUHeGSPGDsR8"
   },
   "source": [
    "## Transpose\n",
    "\n",
    "A transposed matrix is one whose rows are the columns of the original and whose columns are the rows of the original.\n",
    "\n",
    "Common notation for the transpose of a matrix is to have a capital $T$ superscript or a tick mark:\n",
    "\n",
    "\\begin{align}\n",
    "B^{T}\n",
    "\\qquad\n",
    "B^{\\prime}\n",
    "\\end{align}\n",
    "\n",
    "The first is read \"B transpose\" the second is sometimes read as \"B prime\" but can also be read as \"B transpose\".\n",
    "\n",
    "The transpose of any matrix can be found easily by fixing the elements on the main diagonal and flipping the placement of all other elements across that diagonal.\n",
    "\n",
    "![Matrix Transpose](http://xaktly.com/Images/Mathematics/MatrixAlgebra/MatrixOperations/MatrixTranspose.png)\n",
    "  \n",
    "\\begin{align}\n",
    "  B = \n",
    "\\begin{bmatrix}\n",
    "  1 & 2 & 3 \\\\\n",
    "  4 & 5 & 6\n",
    "\\end{bmatrix}\n",
    "  \\qquad\n",
    "  B^{T} = \n",
    "  \\begin{bmatrix}\n",
    "  1 & 4 \\\\\n",
    "  2 & 5 \\\\\n",
    "  3 & 6\n",
    "  \\end{bmatrix}\n",
    "\\end{align}\n",
    "\n",
    "![Matrix Transpose](https://upload.wikimedia.org/wikipedia/commons/e/e4/Matrix_transpose.gif)"
   ]
  },
  {
   "cell_type": "code",
   "execution_count": 0,
   "metadata": {
    "colab": {
     "base_uri": "https://localhost:8080/",
     "height": 138
    },
    "colab_type": "code",
    "id": "jLTfBIRqDxtS",
    "outputId": "9a98b11a-d2de-4d6e-9c44-2a4564e03ed9"
   },
   "outputs": [
    {
     "data": {
      "text/html": [
       "<div>\n",
       "<style scoped>\n",
       "    .dataframe tbody tr th:only-of-type {\n",
       "        vertical-align: middle;\n",
       "    }\n",
       "\n",
       "    .dataframe tbody tr th {\n",
       "        vertical-align: top;\n",
       "    }\n",
       "\n",
       "    .dataframe thead th {\n",
       "        text-align: right;\n",
       "    }\n",
       "</style>\n",
       "<table border=\"1\" class=\"dataframe\">\n",
       "  <thead>\n",
       "    <tr style=\"text-align: right;\">\n",
       "      <th></th>\n",
       "      <th>a</th>\n",
       "      <th>b</th>\n",
       "    </tr>\n",
       "  </thead>\n",
       "  <tbody>\n",
       "    <tr>\n",
       "      <th>0</th>\n",
       "      <td>1</td>\n",
       "      <td>4</td>\n",
       "    </tr>\n",
       "    <tr>\n",
       "      <th>1</th>\n",
       "      <td>2</td>\n",
       "      <td>5</td>\n",
       "    </tr>\n",
       "    <tr>\n",
       "      <th>2</th>\n",
       "      <td>3</td>\n",
       "      <td>6</td>\n",
       "    </tr>\n",
       "  </tbody>\n",
       "</table>\n",
       "</div>"
      ],
      "text/plain": [
       "   a  b\n",
       "0  1  4\n",
       "1  2  5\n",
       "2  3  6"
      ]
     },
     "execution_count": 33,
     "metadata": {
      "tags": []
     },
     "output_type": "execute_result"
    }
   ],
   "source": [
    "df"
   ]
  },
  {
   "cell_type": "code",
   "execution_count": 0,
   "metadata": {
    "colab": {
     "base_uri": "https://localhost:8080/",
     "height": 108
    },
    "colab_type": "code",
    "id": "v31YheDkDyPC",
    "outputId": "03feef30-301e-4146-99b1-2d2201ca7dce"
   },
   "outputs": [
    {
     "data": {
      "text/html": [
       "<div>\n",
       "<style scoped>\n",
       "    .dataframe tbody tr th:only-of-type {\n",
       "        vertical-align: middle;\n",
       "    }\n",
       "\n",
       "    .dataframe tbody tr th {\n",
       "        vertical-align: top;\n",
       "    }\n",
       "\n",
       "    .dataframe thead th {\n",
       "        text-align: right;\n",
       "    }\n",
       "</style>\n",
       "<table border=\"1\" class=\"dataframe\">\n",
       "  <thead>\n",
       "    <tr style=\"text-align: right;\">\n",
       "      <th></th>\n",
       "      <th>0</th>\n",
       "      <th>1</th>\n",
       "      <th>2</th>\n",
       "    </tr>\n",
       "  </thead>\n",
       "  <tbody>\n",
       "    <tr>\n",
       "      <th>a</th>\n",
       "      <td>1</td>\n",
       "      <td>2</td>\n",
       "      <td>3</td>\n",
       "    </tr>\n",
       "    <tr>\n",
       "      <th>b</th>\n",
       "      <td>4</td>\n",
       "      <td>5</td>\n",
       "      <td>6</td>\n",
       "    </tr>\n",
       "  </tbody>\n",
       "</table>\n",
       "</div>"
      ],
      "text/plain": [
       "   0  1  2\n",
       "a  1  2  3\n",
       "b  4  5  6"
      ]
     },
     "execution_count": 34,
     "metadata": {
      "tags": []
     },
     "output_type": "execute_result"
    }
   ],
   "source": [
    "# Transposing a dataframe switches its rows and columns\n",
    "df.T"
   ]
  },
  {
   "cell_type": "code",
   "execution_count": 41,
   "metadata": {},
   "outputs": [
    {
     "data": {
      "text/plain": [
       "array([[1, 4],\n",
       "       [2, 5],\n",
       "       [3, 6]])"
      ]
     },
     "execution_count": 41,
     "metadata": {},
     "output_type": "execute_result"
    }
   ],
   "source": [
    "df.values"
   ]
  },
  {
   "cell_type": "code",
   "execution_count": 42,
   "metadata": {},
   "outputs": [
    {
     "data": {
      "text/plain": [
       "array([[1, 2, 3],\n",
       "       [4, 5, 6]])"
      ]
     },
     "execution_count": 42,
     "metadata": {},
     "output_type": "execute_result"
    }
   ],
   "source": [
    "df.values.T"
   ]
  },
  {
   "cell_type": "markdown",
   "metadata": {
    "colab_type": "text",
    "id": "raeSObVN-9Fa"
   },
   "source": [
    "## Challenge\n",
    "\n",
    "Throughout the week we will be learning how the princples of mathematical matrices apply to our datasets. We'll be focusing mostly on math topics and techniques but as the week goes on we will be making more and more connections back to how we think about and work with our datasets.\n"
   ]
  },
  {
   "cell_type": "markdown",
   "metadata": {
    "colab_type": "text",
    "id": "gRXqzzUE8L87"
   },
   "source": [
    "# [Square Matrices](#square-matrices)\n",
    "\n",
    "Student can identify special types of square matrices including the identity matrix, as well as find the determinant and inverse of a matrix."
   ]
  },
  {
   "cell_type": "markdown",
   "metadata": {
    "colab_type": "text",
    "id": "Xqc2Eejw82eD"
   },
   "source": [
    "## Overview\n",
    "\n",
    "In a traditional linear algebra class after the first few weeks you would deal almost exclusively with square matrices. They have very nice properties that their lopsided sisters and brothers just don't possess. \n",
    "\n",
    "A square matrix is any matrix that has the same number of rows as columns:\n",
    "\n",
    "\\begin{align}\n",
    "A =\n",
    "\\begin{bmatrix}\n",
    "  a_{1,1}\n",
    "\\end{bmatrix}\n",
    "\\qquad\n",
    "B =\n",
    "\\begin{bmatrix}\n",
    "b_{1,1} & b_{1,2} \\\\\n",
    "b_{2,1} & b_{2,2}\n",
    "\\end{bmatrix}\n",
    "\\qquad\n",
    "C =\n",
    "\\begin{bmatrix}\n",
    "c_{1,1} & c_{1,2} & c_{1,3} \\\\\n",
    "c_{2,1} & c_{2,2} & c_{2,3} \\\\\n",
    "c_{3,1} & c_{3,2} & c_{3,3} \n",
    "\\end{bmatrix}\n",
    "\\end{align}"
   ]
  },
  {
   "cell_type": "markdown",
   "metadata": {
    "colab_type": "text",
    "id": "RcB6ruT3AYUt"
   },
   "source": [
    "## Follow Along\n",
    "\n",
    "### Special Kinds of Square Matrices\n",
    "\n",
    "**Diagonal:** Values on the main diagonal, zeroes everywhere else. Transpose = the same\n",
    "\n",
    "\\begin{align}\n",
    "A =\n",
    "\\begin{bmatrix}\n",
    "a_{1,1} & 0 & 0 \\\\\n",
    "0 & a_{2,2} & 0 \\\\\n",
    "0 & 0 & a_{3,3} \n",
    "\\end{bmatrix}\n",
    "\\end{align}\n",
    "\n",
    "**Upper Triangular:** Values on and above the main diagonal, zeroes everywhere else. Transpose = lower triangular\n",
    "\n",
    "\\begin{align}\n",
    "B =\n",
    "\\begin{bmatrix}\n",
    "b_{1,1} & b_{1,2} & b_{1,3} \\\\\n",
    "0 & b_{2,2} & b_{2,3} \\\\\n",
    "0 & 0 & b_{3,3} \n",
    "\\end{bmatrix}\n",
    "\\end{align}\n",
    "\n",
    "**Lower Triangular:** Values on and below the main diagonal, zeroes everywhere else. Transpose = upper triangular\n",
    "\n",
    "\\begin{align}\n",
    "C =\n",
    "\\begin{bmatrix}\n",
    "c_{1,1} & 0 & 0 \\\\\n",
    "c_{2,1} & c_{2,2} & 0 \\\\\n",
    "c_{3,1} & c_{3,2} & c_{3,3} \n",
    "\\end{bmatrix}\n",
    "\\end{align}\n",
    "\n",
    "**Identity Matrix:** A diagonal matrix with ones on the main diagonal and zeroes everywhere else. The product of the any square matrix and the identity matrix is the original square matrix $AI == A$. Also, any matrix multiplied by its inverse will give the identity matrix as its product.  $AA^{-1} = I$\n",
    "\n",
    "\\begin{align}\n",
    "D =\n",
    "\\begin{bmatrix}\n",
    "  1\n",
    "\\end{bmatrix}\n",
    "\\qquad\n",
    "E =\n",
    "\\begin{bmatrix}\n",
    "1 & 0 \\\\\n",
    "0 & 1\n",
    "\\end{bmatrix}\n",
    "\\qquad\n",
    "F =\n",
    "\\begin{bmatrix}\n",
    "1 & 0 & 0 \\\\\n",
    "0 & 1 & 0 \\\\\n",
    "0 & 0 & 1 \n",
    "\\end{bmatrix}\n",
    "\\end{align}\n",
    "\n",
    "**Symmetric:** The numbers above the main diagonal are mirrored below/across the main diagonal.\n",
    "\n",
    "\\begin{align}\n",
    "G =\n",
    "\\begin{bmatrix}\n",
    "1 & 4 & 5 \\\\\n",
    "4 & 2 & 6 \\\\\n",
    "5 & 6 & 3 \n",
    "\\end{bmatrix}\n",
    "\\end{align}\n",
    "\n",
    "\n"
   ]
  },
  {
   "cell_type": "code",
   "execution_count": 44,
   "metadata": {},
   "outputs": [
    {
     "data": {
      "text/plain": [
       "array([[1, 4],\n",
       "       [5, 6]])"
      ]
     },
     "execution_count": 44,
     "metadata": {},
     "output_type": "execute_result"
    }
   ],
   "source": [
    "#identity matrix\n",
    "\n",
    "b"
   ]
  },
  {
   "cell_type": "code",
   "execution_count": 48,
   "metadata": {},
   "outputs": [],
   "source": [
    "#identity matrix is a square matrix where main diagonal is 1's and rest are 0's\n",
    "identity_matrix = np.array([[1,0],\n",
    "                            [0,1]])"
   ]
  },
  {
   "cell_type": "code",
   "execution_count": 49,
   "metadata": {},
   "outputs": [
    {
     "data": {
      "text/plain": [
       "array([[1, 4],\n",
       "       [5, 6]])"
      ]
     },
     "execution_count": 49,
     "metadata": {},
     "output_type": "execute_result"
    }
   ],
   "source": [
    "np.matmul(b, identity_matrix)"
   ]
  },
  {
   "cell_type": "markdown",
   "metadata": {
    "colab_type": "text",
    "id": "yXN3mVFdFNpL"
   },
   "source": [
    "### Determinant\n",
    "\n",
    "The determinant is a property that all square matrices possess and is denoted $det(A)$ or using pipes (absolute value symbols) $|A|$\n",
    "\n",
    "The equation given for finding the determinant of a 2x2 matrix is as follows:\n",
    "\n",
    "\\begin{align}\n",
    "A = \\begin{bmatrix}\n",
    "a & b \\\\\n",
    "c & d\n",
    "\\end{bmatrix}\n",
    "\\qquad\n",
    "|A| = ad-bc\n",
    "\\end{align}\n",
    "\n",
    "The determinant of larger square matrices recursively by finding the determinats of the smaller matrics that make up the large matrix.\n",
    "\n",
    "For example:\n",
    "\n",
    "<center><img src=\"https://wikimedia.org/api/rest_v1/media/math/render/svg/14f2f2a449d6d152ee71261e47551aa0a31c801e\" width=500></center>\n",
    "\n",
    "The above equation is **very** similar to the equation that we use to find the cross-product of a 3x3 matrix. "
   ]
  },
  {
   "cell_type": "markdown",
   "metadata": {
    "colab_type": "text",
    "id": "c6DsBxGmFOvA"
   },
   "source": [
    "### Inverse\n",
    "\n",
    " There are multiple methods that we could use to find the inverse of a matrix by hand. I would suggest you explore those methods --if this content isn't already overwhelming enough. The inverse is like the reciprocal of the matrix that was used to generate it. Just like $\\frac{1}{8}$ is the reciprocal of 8, $A^{-1}$ acts like the reciprocal of $A$.  The equation for finding the determinant of a 2x2 matrix is as follows:\n",
    " \n",
    " \\begin{align}\n",
    "A = \\begin{bmatrix}\n",
    "a & b \\\\\n",
    "c & d\n",
    "\\end{bmatrix}\n",
    "\\qquad\n",
    "A^{-1} = \\frac{1}{ad-bc}\\begin{bmatrix}\n",
    "d & -b\\\\\n",
    "-c & a\n",
    "\\end{bmatrix}\n",
    "\\end{align}"
   ]
  },
  {
   "cell_type": "markdown",
   "metadata": {
    "colab_type": "text",
    "id": "ByOCfNwyFTN7"
   },
   "source": [
    " ### What happens if we multiply a matrix by its inverse?\n",
    "\n",
    "The product of a matrix multiplied by its inverse is the identity matrix of the same dimensions as the original matrix. There is no concept of \"matrix division\" in linear algebra, but multiplying a matrix by its inverse is very similar since $8\\times\\frac{1}{8} = 1$. \n",
    "\n",
    "\\begin{align}\n",
    "A^{-1}A = I \n",
    "\\end{align}\n"
   ]
  },
  {
   "cell_type": "markdown",
   "metadata": {
    "colab_type": "text",
    "id": "oSoPNVMeFVsP"
   },
   "source": [
    "### Not all matrices are invertible\n",
    "\n",
    "Matrices that are not square are not invertible.\n",
    " \n",
    " A matrix is invertible if and only if its determinant is non-zero. You'll notice that the fraction on the left side of the matrix is $\\frac{1}{det(A)}$.\n",
    " \n",
    " As you know, dividing anything by 0 leads to an undefined quotient. Therefore, if the determinant of a matrix is 0, then the entire inverse becomes undefined. "
   ]
  },
  {
   "cell_type": "markdown",
   "metadata": {
    "colab_type": "text",
    "id": "CpZ-2b5HFYpM"
   },
   "source": [
    "### What leads to a 0 determinant?\n",
    " \n",
    " A square matrix that has a determinant of 0 is known as a \"singular\" matrix. One thing that can lead to a matrix having a determinant of 0 is if two rows or columns in the matrix are perfectly collinear. Another way of saying this is that the determinant will be zero if the rows or columns of a matrix are not linearly dependent. \n",
    " \n",
    "One of the most common ways that a matrix can end up having rows that are linearly dependent is if one column a multiple of another column. Lets look at an example:\n",
    "\n",
    "\\begin{align}\n",
    "C =\\begin{bmatrix}\n",
    "  1 & 5 & 2 \\\\\n",
    "  2 & 7 & 4 \\\\\n",
    "  3 & 2 & 6\n",
    "\\end{bmatrix}\n",
    "\\end{align}\n",
    "\n",
    "Look at the columns of the above matrix, column 3 is exactly double column 1. (could be any multiple or fraction) Think about if you had some measure in a dataset of distance in miles, but then you also wanted to convert its units to feet, so you create another column and multiply the mile measure by 5,280 (Thanks Imperial System). But then you forget to drop one of the columns so you end up with two columns that are linearly dependent which causes the determinant of your dataframe to be 0 and will cause certain algorithms to fail. We'll go deeper into this concept next week (this can cause problems with linear regression) so just know that matrices that have columns that are a multiple or fraction of another column will cause the determinant of that matrix to be 0."
   ]
  },
  {
   "cell_type": "markdown",
   "metadata": {
    "colab_type": "text",
    "id": "2Q0YqSGF-9vI"
   },
   "source": [
    "## Challenge\n",
    "\n",
    "Square Matrices have many important properties like the inverse and determinant that we will be using in the future. For more details about the implications of a square matrix having an inverse you can try googling the \"Invertible Matrix Theorem\" mastering and proving the different partso of this theorem is one of the main focuses of traditional linear algebra education."
   ]
  },
  {
   "cell_type": "markdown",
   "metadata": {
    "colab_type": "text",
    "id": "z_fYkKbT8MGj"
   },
   "source": [
    "# [Doing Linear Algebra with NumPy](#linear-algebra-NumPy)\n",
    "\n",
    "Student can use NumPy to perform basic Linear Algebra operations with Python.\n"
   ]
  },
  {
   "cell_type": "markdown",
   "metadata": {
    "colab_type": "text",
    "id": "VL30GAl-tcpl"
   },
   "source": [
    "## Overview\n",
    "\n",
    "NumPy is at the core of many types of scientific computing and is the main tool that we will use to perform Linear Algebra operations with Python. \n",
    "\n",
    "We have talked about how vectors are a lot like Python Lists, however we will mostly use NumPy arrays instead of Python lists as the main data structure. Lets demonstrate some of the main differences betwen Python lists and NumPy Arrays."
   ]
  },
  {
   "cell_type": "code",
   "execution_count": 0,
   "metadata": {
    "colab": {},
    "colab_type": "code",
    "id": "3FJDPjwytDfZ"
   },
   "outputs": [],
   "source": [
    "### What will happen when I add the two Python lists together?\n"
   ]
  },
  {
   "cell_type": "code",
   "execution_count": 0,
   "metadata": {
    "colab": {},
    "colab_type": "code",
    "id": "SFtJF1symxuY"
   },
   "outputs": [],
   "source": [
    "# Lets create two 1-Dimensional NumPy arrays and add them together?\n",
    "# What do you think the result will be?\n",
    "\n",
    "# Array Broadcasting\n",
    "# Doing some arithmetic operation to vectors \"element-wise\"\n"
   ]
  },
  {
   "cell_type": "markdown",
   "metadata": {
    "colab_type": "text",
    "id": "wVuKmynAm5qF"
   },
   "source": [
    "What we have just demonstrated is one of the primary benefits of NumPy and it is called \"Array Broadcasting\" This means that arithmetic operations happen \"element-wise\""
   ]
  },
  {
   "cell_type": "code",
   "execution_count": 0,
   "metadata": {
    "colab": {},
    "colab_type": "code",
    "id": "dIOBi3uznKnx"
   },
   "outputs": [],
   "source": []
  },
  {
   "cell_type": "code",
   "execution_count": 0,
   "metadata": {
    "colab": {},
    "colab_type": "code",
    "id": "Qd5bsOXUnNL2"
   },
   "outputs": [],
   "source": []
  },
  {
   "cell_type": "code",
   "execution_count": 0,
   "metadata": {
    "colab": {},
    "colab_type": "code",
    "id": "vLSUyDEYnPMo"
   },
   "outputs": [],
   "source": []
  },
  {
   "cell_type": "markdown",
   "metadata": {
    "colab_type": "text",
    "id": "iqjRIRFItg3X"
   },
   "source": [
    "## Follow Along\n",
    "\n",
    "Lets calculate a dot product. What do we need to do? We need to multiply two vectors \"element-wise\" and them sum up all of those products"
   ]
  },
  {
   "cell_type": "code",
   "execution_count": 0,
   "metadata": {
    "colab": {},
    "colab_type": "code",
    "id": "ZcGlUN55qoGt"
   },
   "outputs": [],
   "source": [
    "# Find the dot product of vectos a and b\n",
    "\n",
    "# Dot Product\n"
   ]
  },
  {
   "cell_type": "markdown",
   "metadata": {
    "colab_type": "text",
    "id": "p1BE4P3lnr1-"
   },
   "source": [
    "We can also use provided linear algebra functions from the [np.linalg](https://docs.scipy.org/doc/numpy-1.15.1/reference/routines.linalg.html) documentation in order to perform Linear Algebra processes."
   ]
  },
  {
   "cell_type": "code",
   "execution_count": 0,
   "metadata": {
    "colab": {},
    "colab_type": "code",
    "id": "cqDPG2GCoFFR"
   },
   "outputs": [],
   "source": []
  },
  {
   "cell_type": "markdown",
   "metadata": {
    "colab_type": "text",
    "id": "yh5x6DXVouPW"
   },
   "source": [
    "### 1-Dimensional vs 2-Dimensional NumPy Arrays\n",
    "\n",
    "One dimensional NumPy arrays can be used to represent vectors but cannot be used to differentiate between row and column vectors.\n",
    "\n",
    "\\begin{align}\n",
    "\\text{column vector} = \\begin{bmatrix}1 \\\\ 2 \\\\ 3\\end{bmatrix}\n",
    "\\end{align}\n",
    "\n",
    "\\begin{align}\n",
    "\\text{row vector} = \\begin{bmatrix} 1 & 2 & 3\\end{bmatrix}\n",
    "\\end{align}\n",
    "\n",
    "Notice that one dimensional arrays do not have a second element listed for their shape. so that there is no way to tell if they represent column vectors or row vectors"
   ]
  },
  {
   "cell_type": "code",
   "execution_count": 0,
   "metadata": {
    "colab": {},
    "colab_type": "code",
    "id": "clrA_q4PpXgk"
   },
   "outputs": [],
   "source": []
  },
  {
   "cell_type": "code",
   "execution_count": 0,
   "metadata": {
    "colab": {},
    "colab_type": "code",
    "id": "RrmCLJXlqZLb"
   },
   "outputs": [],
   "source": [
    "# Notice how only the number of items in the array is listed\n"
   ]
  },
  {
   "cell_type": "code",
   "execution_count": 0,
   "metadata": {
    "colab": {},
    "colab_type": "code",
    "id": "Dt6h6fMQqy6N"
   },
   "outputs": [],
   "source": [
    "# And if we swap rows and columns the shape does not change\n"
   ]
  },
  {
   "cell_type": "markdown",
   "metadata": {
    "colab_type": "text",
    "id": "LXOIB20Lq2j0"
   },
   "source": [
    "### If I explicitly want a row of column vector then I need to use a 2D NumPy Array"
   ]
  },
  {
   "cell_type": "code",
   "execution_count": 0,
   "metadata": {
    "colab": {},
    "colab_type": "code",
    "id": "CAMZw2Eqq6e5"
   },
   "outputs": [],
   "source": []
  },
  {
   "cell_type": "markdown",
   "metadata": {
    "colab_type": "text",
    "id": "-CaNxeTao4ZQ"
   },
   "source": [
    "### Only use NumPy Arrans, DO NOT use the NumPy Matrix class.\n",
    "\n",
    "NumPy has a matrix class which can be used for representing matrices. However, I don't want you to use that datatype because it will be removed from NumPy in the future. However, I want you to be aware that this other datatype exists so that you don't get confused when you look at stack overflow posts or other tutorials that use the matrix datatype. Keep an eye out for resources that use it and just know that they will soon be outdated. Anything that can be done with the matrix class can also be done with simple NumPY arrays."
   ]
  },
  {
   "cell_type": "code",
   "execution_count": 0,
   "metadata": {
    "colab": {},
    "colab_type": "code",
    "id": "omwR_dinrAzW"
   },
   "outputs": [],
   "source": [
    "# Do not work with this datatype\n",
    "# This will be removed from NumPy in the future\n"
   ]
  },
  {
   "cell_type": "code",
   "execution_count": 0,
   "metadata": {
    "colab": {},
    "colab_type": "code",
    "id": "Jc0AVYysrCnu"
   },
   "outputs": [],
   "source": []
  },
  {
   "cell_type": "code",
   "execution_count": 0,
   "metadata": {
    "colab": {},
    "colab_type": "code",
    "id": "mJuJLkWBrEae"
   },
   "outputs": [],
   "source": []
  },
  {
   "cell_type": "code",
   "execution_count": 0,
   "metadata": {
    "colab": {},
    "colab_type": "code",
    "id": "82IobIitrGVD"
   },
   "outputs": [],
   "source": [
    "# Matrix as a NumPy Array\n",
    "\n",
    "# ndarrays\n"
   ]
  },
  {
   "cell_type": "code",
   "execution_count": 0,
   "metadata": {
    "colab": {},
    "colab_type": "code",
    "id": "irmsHsjOrJM4"
   },
   "outputs": [],
   "source": []
  },
  {
   "cell_type": "code",
   "execution_count": 0,
   "metadata": {
    "colab": {},
    "colab_type": "code",
    "id": "SaEc-xYyrNLi"
   },
   "outputs": [],
   "source": []
  },
  {
   "cell_type": "code",
   "execution_count": 0,
   "metadata": {
    "colab": {},
    "colab_type": "code",
    "id": "uXEg00GGs4hA"
   },
   "outputs": [],
   "source": []
  },
  {
   "cell_type": "markdown",
   "metadata": {
    "colab_type": "text",
    "id": "YX3kcdK9tjIy"
   },
   "source": [
    "## Challenge\n",
    "\n",
    "In your afternoon assignment you will perform many different linear algebra functions using NumPy. Many of which will be done easily by using these [Helpful NumPy Linear Algebra Functions](https://docs.scipy.org/doc/numpy-1.15.1/reference/routines.linalg.html) found in the NumPy documentation."
   ]
  },
  {
   "cell_type": "markdown",
   "metadata": {
    "colab_type": "text",
    "id": "Q0YtPR54tmW0"
   },
   "source": [
    "# Review\n",
    "\n",
    "Lets good at working with vectors and matrices with NumPy!\n",
    "\n",
    "Remember that you'll need many functions from [the documentation](https://docs.scipy.org/doc/numpy-1.15.1/reference/routines.linalg.html) in order to complete the assignment\n",
    "\n",
    "Remember to use 2D NumPy arrays to represent row/column vectors as well as matrices and please share any helpful resources that you find in the cohort channel."
   ]
  }
 ],
 "metadata": {
  "colab": {
   "collapsed_sections": [],
   "include_colab_link": true,
   "name": "LS_DS_131_Vectors_and_Matrices.ipynb",
   "provenance": []
  },
  "kernelspec": {
   "display_name": "Python 3",
   "language": "python",
   "name": "python3"
  },
  "language_info": {
   "codemirror_mode": {
    "name": "ipython",
    "version": 3
   },
   "file_extension": ".py",
   "mimetype": "text/x-python",
   "name": "python",
   "nbconvert_exporter": "python",
   "pygments_lexer": "ipython3",
   "version": "3.7.6"
  }
 },
 "nbformat": 4,
 "nbformat_minor": 1
}
